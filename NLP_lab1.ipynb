{
  "cells": [
    {
      "cell_type": "code",
      "source": [
        "from datasets import load_dataset\n",
        "\n",
        "dataset = load_dataset(\"ai4bharat/IndicCorpV2\", name=\"indiccorp_v2\", split=\"tel_Telu\",streaming=True)"
      ],
      "metadata": {
        "id": "ELRIcddabO2O"
      },
      "execution_count": 6,
      "outputs": []
    },
    {
      "cell_type": "code",
      "source": [
        "# import re\n",
        "\n",
        "# # Telugu Unicode range: \\u0C00 to \\u0C7F\n",
        "# pattern1 = re.compile(r'[\\u0C00-\\u0C7F]+ |[\\b\\d{1,4}[-\\/]\\d{1,2}[-\\/]\\d{1,4}\\b} | [https?://[^\\s]+|www\\.[^\\s]+]')\n",
        "\n",
        "# # pattern1 = re.compile(r'[\\u0C00-\\u0C7F]+')\n",
        "\n",
        "# for i in dataset:\n",
        "#   telugu_words1 = pattern1.findall(i['text'])\n",
        "#   if(len(telugu_words1)>20):\n",
        "#     break\n",
        "\n",
        "#   # Find all Telugu words\n",
        "\n",
        "\n",
        "# print(telugu_words1)\n",
        "\n",
        "# print(len(telugu_words1))"
      ],
      "metadata": {
        "id": "IMiQPCcaa75e"
      },
      "execution_count": 5,
      "outputs": []
    },
    {
      "cell_type": "code",
      "source": [
        "import re\n",
        "\n",
        "# Telugu Unicode range: \\u0C00 to \\u0C7F\n",
        "pattern = re.compile(r'[\\u0C00-\\u0C7F]+')\n",
        "num=1\n",
        "\n",
        "for i in dataset:\n",
        "  telugu_words = pattern.findall(i['text'])\n",
        "  break\n",
        "\n",
        "print(telugu_words)"
      ],
      "metadata": {
        "colab": {
          "base_uri": "https://localhost:8080/"
        },
        "id": "_ErUcaEmctxW",
        "outputId": "710d73d2-77d0-46a5-e70d-bd893adc3bf9"
      },
      "execution_count": 7,
      "outputs": [
        {
          "output_type": "stream",
          "name": "stdout",
          "text": [
            "['అమెరికా', 'అధ్యక్షుడు', 'డొనాల్డ్', 'ట్రంప్', 'కు', 'రాష్ట్రపతి', 'భవన్', 'వద్ద', 'ఘనస్వాగతం', 'లభించింది', 'ఆయనకు', 'రాష్ట్రపతి', 'రామ్', 'నాథ్', 'కోవింద్', 'దంపతులు', 'ప్రధాని', 'మోదీ', 'సాదరంగా', 'ఆహ్వానం', 'పలకడంతో', 'పాటు', 'సైనికులు', 'గౌరవ', 'వందనాన్ని', 'అందించారు']\n"
          ]
        }
      ]
    },
    {
      "cell_type": "code",
      "source": [
        "import re\n",
        "\n",
        "# Telugu Unicode range: \\u0C00 to \\u0C7F\n",
        "pattern = re.compile(\n",
        "    r'https?://\\S+|'                     # URLs\n",
        "    r'\\b[\\w\\.-]+@[\\w\\.-]+\\.\\w{2,4}\\b|'   # email addresses\n",
        "    r'\\d{1,2}[/-]\\d{1,2}[/-]\\d{2,4}|'    # dates like 12/05/2020\n",
        "    r'\\d+\\.\\d+|\\d+|'                     # numbers including decimals\n",
        "    r'[\\u0C00-\\u0C7F]+|'                 # Telugu words\n",
        "    r'[^\\s\\w\\u0C00-\\u0C7F]'              # punctuation\n",
        ")\n",
        "\n",
        "num=1\n",
        "\n",
        "for i in dataset:\n",
        "  if i['text'].strip():\n",
        "    num+=1\n",
        "  if(num==5):\n",
        "    print(i['text'])\n",
        "    print('\\n')\n",
        "    telugu_words = pattern.findall(i['text'])\n",
        "    break\n",
        "\n",
        "print(telugu_words)"
      ],
      "metadata": {
        "colab": {
          "base_uri": "https://localhost:8080/"
        },
        "id": "HG71xabpcm9S",
        "outputId": "2efa82bf-caff-4f65-8e6a-69d66a9fa472"
      },
      "execution_count": 12,
      "outputs": [
        {
          "output_type": "stream",
          "name": "stdout",
          "text": [
            "మనలో చాలా మంది విద్యుత్ పొదుపు చేయాలి అని విన్నాను. ఎందుకు? అందంగా చాలా సంస్కరణలు. కొన్ని నమ్మకం శక్తి సేవ్ లేకపోతే, దీన్ని చెయ్యవచ్చు చౌక కాదు. ఎవరైనా అది కూడా విద్యుత్ మూలం ఆదా చెప్పారు. కానీ ఎవరూ అది శక్తి సేవ్ అవసరం ఎందుకు అనే ప్రశ్న పై చాలా ప్రత్యేకంగా చెప్పగలను. , సాధారణ హక్కుకు మరియు ఆ మరియు ఇతరులు. ఇంధన వనరుల పొదుపు ప్రయోజనం కోసం విద్యుత్ సేవ్ మొదటి విషయం. అలాగే, పని తొలగించబడుతుంది పవర్ స్టేషన్ చాలా హానికరమైన వాయువులు ఉంది. ఈ సేకరించిన పదార్థాలు హానికరం ప్రజలకు కానీ కూడా పర్యావరణం కోసం మాత్రమే కాదు.\n",
            "\n",
            "\n",
            "['మనలో', 'చాలా', 'మంది', 'విద్యుత్', 'పొదుపు', 'చేయాలి', 'అని', 'విన్నాను', '.', 'ఎందుకు', '?', 'అందంగా', 'చాలా', 'సంస్కరణలు', '.', 'కొన్ని', 'నమ్మకం', 'శక్తి', 'సేవ్', 'లేకపోతే', ',', 'దీన్ని', 'చెయ్యవచ్చు', 'చౌక', 'కాదు', '.', 'ఎవరైనా', 'అది', 'కూడా', 'విద్యుత్', 'మూలం', 'ఆదా', 'చెప్పారు', '.', 'కానీ', 'ఎవరూ', 'అది', 'శక్తి', 'సేవ్', 'అవసరం', 'ఎందుకు', 'అనే', 'ప్రశ్న', 'పై', 'చాలా', 'ప్రత్యేకంగా', 'చెప్పగలను', '.', ',', 'సాధారణ', 'హక్కుకు', 'మరియు', 'ఆ', 'మరియు', 'ఇతరులు', '.', 'ఇంధన', 'వనరుల', 'పొదుపు', 'ప్రయోజనం', 'కోసం', 'విద్యుత్', 'సేవ్', 'మొదటి', 'విషయం', '.', 'అలాగే', ',', 'పని', 'తొలగించబడుతుంది', 'పవర్', 'స్టేషన్', 'చాలా', 'హానికరమైన', 'వాయువులు', 'ఉంది', '.', 'ఈ', 'సేకరించిన', 'పదార్థాలు', 'హానికరం', 'ప్రజలకు', 'కానీ', 'కూడా', 'పర్యావరణం', 'కోసం', 'మాత్రమే', 'కాదు', '.']\n"
          ]
        }
      ]
    },
    {
      "cell_type": "code",
      "source": [
        "# Sentences\n",
        "\n",
        "import re\n",
        "\n",
        "# Telugu Unicode range: \\u0C00 to \\u0C7F\n",
        "pattern = re.compile(\n",
        "    r'(?<=[.!?])\\s+'\n",
        ")\n",
        "\n",
        "num=1\n",
        "\n",
        "for i in dataset:\n",
        "  if i['text'].strip():\n",
        "    num+=1\n",
        "  if(num==5):\n",
        "    print(i['text'])\n",
        "    print('\\n')\n",
        "    telugu_words = pattern.split(i['text'])\n",
        "    break\n",
        "\n",
        "print(telugu_words)"
      ],
      "metadata": {
        "colab": {
          "base_uri": "https://localhost:8080/"
        },
        "id": "KKsfnbUncmI1",
        "outputId": "d91dffe3-275f-4052-ea62-111d99028434"
      },
      "execution_count": 13,
      "outputs": [
        {
          "output_type": "stream",
          "name": "stdout",
          "text": [
            "మనలో చాలా మంది విద్యుత్ పొదుపు చేయాలి అని విన్నాను. ఎందుకు? అందంగా చాలా సంస్కరణలు. కొన్ని నమ్మకం శక్తి సేవ్ లేకపోతే, దీన్ని చెయ్యవచ్చు చౌక కాదు. ఎవరైనా అది కూడా విద్యుత్ మూలం ఆదా చెప్పారు. కానీ ఎవరూ అది శక్తి సేవ్ అవసరం ఎందుకు అనే ప్రశ్న పై చాలా ప్రత్యేకంగా చెప్పగలను. , సాధారణ హక్కుకు మరియు ఆ మరియు ఇతరులు. ఇంధన వనరుల పొదుపు ప్రయోజనం కోసం విద్యుత్ సేవ్ మొదటి విషయం. అలాగే, పని తొలగించబడుతుంది పవర్ స్టేషన్ చాలా హానికరమైన వాయువులు ఉంది. ఈ సేకరించిన పదార్థాలు హానికరం ప్రజలకు కానీ కూడా పర్యావరణం కోసం మాత్రమే కాదు.\n",
            "\n",
            "\n",
            "['మనలో చాలా మంది విద్యుత్ పొదుపు చేయాలి అని విన్నాను.', 'ఎందుకు?', 'అందంగా చాలా సంస్కరణలు.', 'కొన్ని నమ్మకం శక్తి సేవ్ లేకపోతే, దీన్ని చెయ్యవచ్చు చౌక కాదు.', 'ఎవరైనా అది కూడా విద్యుత్ మూలం ఆదా చెప్పారు.', 'కానీ ఎవరూ అది శక్తి సేవ్ అవసరం ఎందుకు అనే ప్రశ్న పై చాలా ప్రత్యేకంగా చెప్పగలను.', ', సాధారణ హక్కుకు మరియు ఆ మరియు ఇతరులు.', 'ఇంధన వనరుల పొదుపు ప్రయోజనం కోసం విద్యుత్ సేవ్ మొదటి విషయం.', 'అలాగే, పని తొలగించబడుతుంది పవర్ స్టేషన్ చాలా హానికరమైన వాయువులు ఉంది.', 'ఈ సేకరించిన పదార్థాలు హానికరం ప్రజలకు కానీ కూడా పర్యావరణం కోసం మాత్రమే కాదు.']\n"
          ]
        }
      ]
    },
    {
      "cell_type": "code",
      "source": [
        "# import re\n",
        "\n",
        "# # Telugu Unicode range: \\u0C00 to \\u0C7F\n",
        "# pattern = re.compile(r'[\\u0C00-\\u0C7F]+')\n",
        "# char_count = 0\n",
        "# num=1\n",
        "# for i in dataset:\n",
        "#     if(num>5):\n",
        "#       break\n",
        "#     telugu_text = pattern.findall(i['text'])  # List of matched strings\n",
        "#     all_chars = ''.join(telugu_text)          # Combine into one string\n",
        "#     char_count += len(all_chars)\n",
        "#     num+=1              # Count characters\n",
        "\n",
        "# print(\"Total number of Telugu characters:\",char_count)"
      ],
      "metadata": {
        "id": "R4UHq42Jc_rj"
      },
      "execution_count": 15,
      "outputs": []
    },
    {
      "cell_type": "code",
      "source": [
        "# NO of characters\n",
        "\n",
        "pattern = re.compile(r'[\\u0C00-\\u0C7F\\s\\d,\\.?\\(\\)\\{\\}\\[\\]\\']')\n",
        "\n",
        "\n",
        "\n"
      ],
      "metadata": {
        "id": "9-80PC3xe5Fd"
      },
      "execution_count": null,
      "outputs": []
    }
  ],
  "metadata": {
    "colab": {
      "provenance": []
    },
    "kernelspec": {
      "display_name": "Python 3",
      "name": "python3"
    },
    "language_info": {
      "name": "python"
    }
  },
  "nbformat": 4,
  "nbformat_minor": 0
}